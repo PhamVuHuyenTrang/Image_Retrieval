{
 "cells": [
  {
   "cell_type": "code",
   "execution_count": 1,
   "id": "303e02bd",
   "metadata": {
    "_cell_guid": "b1076dfc-b9ad-4769-8c92-a6c4dae69d19",
    "_uuid": "8f2839f25d086af736a60e9eeb907d3b93b6e0e5",
    "execution": {
     "iopub.execute_input": "2023-07-08T01:53:04.815965Z",
     "iopub.status.busy": "2023-07-08T01:53:04.815535Z",
     "iopub.status.idle": "2023-07-08T01:53:09.301326Z",
     "shell.execute_reply": "2023-07-08T01:53:09.299970Z"
    },
    "papermill": {
     "duration": 4.498082,
     "end_time": "2023-07-08T01:53:09.305049",
     "exception": false,
     "start_time": "2023-07-08T01:53:04.806967",
     "status": "completed"
    },
    "tags": []
   },
   "outputs": [],
   "source": [
    "# This Python 3 environment comes with many helpful analytics libraries installed\n",
    "# It is defined by the kaggle/python Docker image: https://github.com/kaggle/docker-python\n",
    "# For example, here's several helpful packages to load\n",
    "\n",
    "import numpy as np # linear algebra\n",
    "import pandas as pd # data processing, CSV file I/O (e.g. pd.read_csv)\n",
    "import random\n",
    "from PIL import Image\n",
    "\n",
    "import os\n",
    "import copy\n",
    "import re\n",
    "from tqdm import tqdm\n",
    "import torchvision.transforms.functional as TF\n",
    "import torchvision.transforms as TT\n",
    "    "
   ]
  },
  {
   "cell_type": "code",
   "execution_count": 2,
   "id": "109c6bac",
   "metadata": {
    "execution": {
     "iopub.execute_input": "2023-07-08T01:53:09.322406Z",
     "iopub.status.busy": "2023-07-08T01:53:09.320702Z",
     "iopub.status.idle": "2023-07-08T01:53:10.157761Z",
     "shell.execute_reply": "2023-07-08T01:53:10.156571Z"
    },
    "papermill": {
     "duration": 0.848178,
     "end_time": "2023-07-08T01:53:10.161141",
     "exception": false,
     "start_time": "2023-07-08T01:53:09.312963",
     "status": "completed"
    },
    "tags": []
   },
   "outputs": [],
   "source": [
    "partition = pd.read_csv(\"/kaggle/input/partition/list_eval_partition_correct.txt\", delim_whitespace=True, names = [\"name1\", \"name2\", \"id\", \"status\"])"
   ]
  },
  {
   "cell_type": "code",
   "execution_count": 3,
   "id": "483131cf",
   "metadata": {
    "execution": {
     "iopub.execute_input": "2023-07-08T01:53:10.176219Z",
     "iopub.status.busy": "2023-07-08T01:53:10.175773Z",
     "iopub.status.idle": "2023-07-08T01:53:10.299040Z",
     "shell.execute_reply": "2023-07-08T01:53:10.297693Z"
    },
    "papermill": {
     "duration": 0.134752,
     "end_time": "2023-07-08T01:53:10.302280",
     "exception": false,
     "start_time": "2023-07-08T01:53:10.167528",
     "status": "completed"
    },
    "tags": []
   },
   "outputs": [],
   "source": [
    "partition.insert(4, \"score\", [1]*len(partition))"
   ]
  },
  {
   "cell_type": "code",
   "execution_count": 4,
   "id": "e398f236",
   "metadata": {
    "execution": {
     "iopub.execute_input": "2023-07-08T01:53:10.317446Z",
     "iopub.status.busy": "2023-07-08T01:53:10.316503Z",
     "iopub.status.idle": "2023-07-08T01:53:10.362320Z",
     "shell.execute_reply": "2023-07-08T01:53:10.361169Z"
    },
    "papermill": {
     "duration": 0.056674,
     "end_time": "2023-07-08T01:53:10.365215",
     "exception": false,
     "start_time": "2023-07-08T01:53:10.308541",
     "status": "completed"
    },
    "tags": []
   },
   "outputs": [
    {
     "data": {
      "text/plain": [
       "train    98832\n",
       "val      48935\n",
       "test     47773\n",
       "Name: status, dtype: int64"
      ]
     },
     "execution_count": 4,
     "metadata": {},
     "output_type": "execute_result"
    }
   ],
   "source": [
    "partition[\"status\"].value_counts()"
   ]
  },
  {
   "cell_type": "code",
   "execution_count": 5,
   "id": "2b1df16d",
   "metadata": {
    "execution": {
     "iopub.execute_input": "2023-07-08T01:53:10.379951Z",
     "iopub.status.busy": "2023-07-08T01:53:10.379494Z",
     "iopub.status.idle": "2023-07-08T01:53:10.533755Z",
     "shell.execute_reply": "2023-07-08T01:53:10.532504Z"
    },
    "papermill": {
     "duration": 0.165382,
     "end_time": "2023-07-08T01:53:10.536926",
     "exception": false,
     "start_time": "2023-07-08T01:53:10.371544",
     "status": "completed"
    },
    "tags": []
   },
   "outputs": [],
   "source": [
    "train_df = partition[partition[\"status\"]== \"train\"]\n",
    "test_df = partition[partition[\"status\"]== \"test\"]\n",
    "val_df = partition[partition[\"status\"]== \"val\"]"
   ]
  },
  {
   "cell_type": "code",
   "execution_count": 6,
   "id": "929f364a",
   "metadata": {
    "execution": {
     "iopub.execute_input": "2023-07-08T01:53:10.553359Z",
     "iopub.status.busy": "2023-07-08T01:53:10.551913Z",
     "iopub.status.idle": "2023-07-08T01:53:10.587506Z",
     "shell.execute_reply": "2023-07-08T01:53:10.586133Z"
    },
    "papermill": {
     "duration": 0.046684,
     "end_time": "2023-07-08T01:53:10.590512",
     "exception": false,
     "start_time": "2023-07-08T01:53:10.543828",
     "status": "completed"
    },
    "tags": []
   },
   "outputs": [],
   "source": [
    "train_ids = list(train_df[\"id\"].unique())\n",
    "test_ids = list(test_df[\"id\"].unique())\n",
    "val_ids = list(val_df[\"id\"].unique())\n"
   ]
  },
  {
   "cell_type": "code",
   "execution_count": 7,
   "id": "a4ff2687",
   "metadata": {
    "execution": {
     "iopub.execute_input": "2023-07-08T01:53:10.607824Z",
     "iopub.status.busy": "2023-07-08T01:53:10.607308Z",
     "iopub.status.idle": "2023-07-08T01:58:56.761735Z",
     "shell.execute_reply": "2023-07-08T01:58:56.760521Z"
    },
    "papermill": {
     "duration": 346.171908,
     "end_time": "2023-07-08T01:58:56.770945",
     "exception": false,
     "start_time": "2023-07-08T01:53:10.599037",
     "status": "completed"
    },
    "tags": []
   },
   "outputs": [
    {
     "data": {
      "text/plain": [
       "'\\nwith open(\"/kaggle/working/anotations.txt\", \"w\") as file:\\n    file.write(\"\\n\".join(anotations))\\n'"
      ]
     },
     "execution_count": 7,
     "metadata": {},
     "output_type": "execute_result"
    }
   ],
   "source": [
    "root = \"/kaggle/input/customer2shopdataset/Customer2Shop/Customer2Shop/img/\"\n",
    "categories =  os.listdir(root)\n",
    "anotations = []\n",
    "#os.makedirs(\"/kaggle/working/images/\")\n",
    "for cate in categories:\n",
    "    \n",
    "    folders = os.listdir(f\"{root}{cate}/\")\n",
    "\n",
    "    #print(folders)\n",
    "    \n",
    "   \n",
    "    for folder in folders:\n",
    "        ids = os.listdir(f\"{root}{cate}/\"+folder)\n",
    "        for id in ids:\n",
    "            if id not in train_ids: \n",
    "                continue\n",
    "            \n",
    "            \n",
    "            '''\n",
    "            #make positive pairs\n",
    "            images = os.listdir(os.path.join(f\"{root}{cate}/{folder}/\", id))\n",
    "            try:\n",
    "                selected_images = random.sample(images, k = 2)\n",
    "            \n",
    "                name1 = id  + selected_images[0]\n",
    "                name2 = id  + selected_images[1]\n",
    "                anotations.append(f\"{name1}\\t{name2}\\t{1}\")\n",
    "                #print(images)\n",
    "\n",
    "                image = Image.open(os.path.join(f'{root}{cate}/{folder}/', id, selected_images[0]))\n",
    "                image.save(\"/kaggle/working/images/\" + name1, format = \"JPEG\")  \n",
    "                image = Image.open(os.path.join(f'{root}{cate}/{folder}/', id, selected_images[1]))\n",
    "                image.save(\"/kaggle/working/images/\"+ name2, format = \"JPEG\") \n",
    "            except : \n",
    "                print(cate, folder, id)\n",
    "            '''\n",
    "\n",
    "\n",
    "            #make negative pairs\n",
    "            images = os.listdir(os.path.join(f\"{root}{cate}/{folder}/\", id))\n",
    "            other_ids = copy.deepcopy(ids)\n",
    "            other_ids.remove(id)\n",
    "            \n",
    "            #score 0.75\n",
    "            oke = False \n",
    "            while oke == False:\n",
    "                selected_id = random.choice(other_ids)\n",
    "                if selected_id in train_ids:\n",
    "                    oke = True\n",
    "            \n",
    "            \n",
    "            images_ = os.listdir(os.path.join(f\"{root}{cate}/{folder}/\", selected_id))\n",
    "            selected_images = [random.choice(images), random.choice(images_)]\n",
    "            name1 = os.path.join(f'img/{cate}/{folder}/', id, selected_images[0])\n",
    "            name2 = os.path.join(f'img/{cate}/{folder}/', selected_id, selected_images[1])\n",
    "            anotations.append([name1, name2, \"train\", 0.75])\n",
    "            \n",
    "            \n",
    "            #image = Image.open(os.path.join(f'{root}{cate}/{folder}/', id, selected_images[0]))\n",
    "            #image.save(\"/kaggle/working/images/\" + name1, format = \"JPEG\")  \n",
    "            #image = Image.open(os.path.join(f'{root}{cate}/{folder}/', selected_id, selected_images[1]))\n",
    "            #image.save(\"/kaggle/working/images/\"+ name2, format = \"JPEG\") \n",
    "            \n",
    "            #score 0\n",
    "            selected_cate = random.choice(categories)\n",
    "            list_folders = os.listdir(f\"{root}{selected_cate}/\")\n",
    "            if folder in list_folders:\n",
    "                list_folders.remove(folder)\n",
    "            selected_folder = random.choice(list_folders)\n",
    "            \n",
    "            oke = False \n",
    "            while oke == False:\n",
    "                selected_id = random.choice(os.listdir(f\"{root}{selected_cate}/\"+selected_folder))\n",
    "                if selected_id in train_ids:\n",
    "                    oke = True\n",
    "            \n",
    "            images_ = os.listdir(os.path.join(f\"{root}{selected_cate}/{selected_folder}/\", selected_id))\n",
    "            selected_images = [random.choice(images), random.choice(images_)]\n",
    "            \n",
    "            name1 = os.path.join(f'img/{cate}/{folder}/', id, selected_images[0])\n",
    "            name2 = os.path.join(f'img/{selected_cate}/{selected_folder}/', selected_id, selected_images[1])\n",
    "            \n",
    "            anotations.append([name1, name2, \"train\", 0])\n",
    "\n",
    "            #image = Image.open(os.path.join(f'{root}{cate}/{folder}/', id, selected_images[0]))\n",
    "            #image.save(\"/kaggle/working/images/\" + name1, format = \"JPEG\")  \n",
    "            #image = Image.open(os.path.join(f'{root}{cate}/{selected_folder}/', selected_id, selected_images[1]))\n",
    "            #image.save(\"/kaggle/working/images/\"+ name2, format = \"JPEG\") \n",
    "           \n",
    "'''\n",
    "with open(\"/kaggle/working/anotations.txt\", \"w\") as file:\n",
    "    file.write(\"\\n\".join(anotations))\n",
    "'''"
   ]
  },
  {
   "cell_type": "code",
   "execution_count": 8,
   "id": "bc830d4c",
   "metadata": {
    "execution": {
     "iopub.execute_input": "2023-07-08T01:58:56.786887Z",
     "iopub.status.busy": "2023-07-08T01:58:56.786094Z",
     "iopub.status.idle": "2023-07-08T01:58:56.816695Z",
     "shell.execute_reply": "2023-07-08T01:58:56.815499Z"
    },
    "papermill": {
     "duration": 0.042616,
     "end_time": "2023-07-08T01:58:56.820208",
     "exception": false,
     "start_time": "2023-07-08T01:58:56.777592",
     "status": "completed"
    },
    "tags": []
   },
   "outputs": [],
   "source": [
    "nega_train = pd.DataFrame(anotations, columns = [\"name1\", \"name2\", \"status\", \"score\"])"
   ]
  },
  {
   "cell_type": "code",
   "execution_count": 9,
   "id": "ead6d086",
   "metadata": {
    "execution": {
     "iopub.execute_input": "2023-07-08T01:58:56.836515Z",
     "iopub.status.busy": "2023-07-08T01:58:56.835788Z",
     "iopub.status.idle": "2023-07-08T01:58:56.859320Z",
     "shell.execute_reply": "2023-07-08T01:58:56.858080Z"
    },
    "papermill": {
     "duration": 0.035105,
     "end_time": "2023-07-08T01:58:56.862170",
     "exception": false,
     "start_time": "2023-07-08T01:58:56.827065",
     "status": "completed"
    },
    "tags": []
   },
   "outputs": [],
   "source": [
    "train = pd.concat([nega_train, train_df])"
   ]
  },
  {
   "cell_type": "code",
   "execution_count": 10,
   "id": "870122d3",
   "metadata": {
    "execution": {
     "iopub.execute_input": "2023-07-08T01:58:56.878182Z",
     "iopub.status.busy": "2023-07-08T01:58:56.877531Z",
     "iopub.status.idle": "2023-07-08T01:58:56.908281Z",
     "shell.execute_reply": "2023-07-08T01:58:56.907239Z"
    },
    "papermill": {
     "duration": 0.042658,
     "end_time": "2023-07-08T01:58:56.911710",
     "exception": false,
     "start_time": "2023-07-08T01:58:56.869052",
     "status": "completed"
    },
    "tags": []
   },
   "outputs": [
    {
     "data": {
      "text/html": [
       "<div>\n",
       "<style scoped>\n",
       "    .dataframe tbody tr th:only-of-type {\n",
       "        vertical-align: middle;\n",
       "    }\n",
       "\n",
       "    .dataframe tbody tr th {\n",
       "        vertical-align: top;\n",
       "    }\n",
       "\n",
       "    .dataframe thead th {\n",
       "        text-align: right;\n",
       "    }\n",
       "</style>\n",
       "<table border=\"1\" class=\"dataframe\">\n",
       "  <thead>\n",
       "    <tr style=\"text-align: right;\">\n",
       "      <th></th>\n",
       "      <th>name1</th>\n",
       "      <th>name2</th>\n",
       "      <th>status</th>\n",
       "      <th>score</th>\n",
       "      <th>id</th>\n",
       "    </tr>\n",
       "  </thead>\n",
       "  <tbody>\n",
       "    <tr>\n",
       "      <th>0</th>\n",
       "      <td>img/DRESSES/Dress/id_00001223/comsumer_02.jpg</td>\n",
       "      <td>img/DRESSES/Dress/id_00001458/comsumer_02.jpg</td>\n",
       "      <td>train</td>\n",
       "      <td>0.75</td>\n",
       "      <td>NaN</td>\n",
       "    </tr>\n",
       "    <tr>\n",
       "      <th>1</th>\n",
       "      <td>img/DRESSES/Dress/id_00001223/comsumer_02.jpg</td>\n",
       "      <td>img/DRESSES/Skirt/id_00018464/comsumer_02.jpg</td>\n",
       "      <td>train</td>\n",
       "      <td>0.00</td>\n",
       "      <td>NaN</td>\n",
       "    </tr>\n",
       "    <tr>\n",
       "      <th>2</th>\n",
       "      <td>img/DRESSES/Dress/id_00000556/comsumer_03.jpg</td>\n",
       "      <td>img/DRESSES/Dress/id_00023699/comsumer_02.jpg</td>\n",
       "      <td>train</td>\n",
       "      <td>0.75</td>\n",
       "      <td>NaN</td>\n",
       "    </tr>\n",
       "    <tr>\n",
       "      <th>3</th>\n",
       "      <td>img/DRESSES/Dress/id_00000556/shop_01.jpg</td>\n",
       "      <td>img/CLOTHING/T_Shirt/id_00008194/comsumer_05.jpg</td>\n",
       "      <td>train</td>\n",
       "      <td>0.00</td>\n",
       "      <td>NaN</td>\n",
       "    </tr>\n",
       "    <tr>\n",
       "      <th>4</th>\n",
       "      <td>img/DRESSES/Dress/id_00025664/comsumer_01.jpg</td>\n",
       "      <td>img/DRESSES/Dress/id_00000752/comsumer_14.jpg</td>\n",
       "      <td>train</td>\n",
       "      <td>0.75</td>\n",
       "      <td>NaN</td>\n",
       "    </tr>\n",
       "    <tr>\n",
       "      <th>...</th>\n",
       "      <td>...</td>\n",
       "      <td>...</td>\n",
       "      <td>...</td>\n",
       "      <td>...</td>\n",
       "      <td>...</td>\n",
       "    </tr>\n",
       "    <tr>\n",
       "      <th>195519</th>\n",
       "      <td>img/DRESSES/Dress/id_00026698/comsumer_01.jpg</td>\n",
       "      <td>img/DRESSES/Dress/id_00026698/shop_01.jpg</td>\n",
       "      <td>train</td>\n",
       "      <td>1.00</td>\n",
       "      <td>id_00026698</td>\n",
       "    </tr>\n",
       "    <tr>\n",
       "      <th>195520</th>\n",
       "      <td>img/DRESSES/Dress/id_00026698/comsumer_02.jpg</td>\n",
       "      <td>img/DRESSES/Dress/id_00026698/shop_01.jpg</td>\n",
       "      <td>train</td>\n",
       "      <td>1.00</td>\n",
       "      <td>id_00026698</td>\n",
       "    </tr>\n",
       "    <tr>\n",
       "      <th>195521</th>\n",
       "      <td>img/DRESSES/Dress/id_00026698/comsumer_03.jpg</td>\n",
       "      <td>img/DRESSES/Dress/id_00026698/shop_01.jpg</td>\n",
       "      <td>train</td>\n",
       "      <td>1.00</td>\n",
       "      <td>id_00026698</td>\n",
       "    </tr>\n",
       "    <tr>\n",
       "      <th>195538</th>\n",
       "      <td>img/DRESSES/Dress/id_00026719/comsumer_01.jpg</td>\n",
       "      <td>img/DRESSES/Dress/id_00026719/shop_01.jpg</td>\n",
       "      <td>train</td>\n",
       "      <td>1.00</td>\n",
       "      <td>id_00026719</td>\n",
       "    </tr>\n",
       "    <tr>\n",
       "      <th>195539</th>\n",
       "      <td>img/DRESSES/Dress/id_00026719/comsumer_02.jpg</td>\n",
       "      <td>img/DRESSES/Dress/id_00026719/shop_01.jpg</td>\n",
       "      <td>train</td>\n",
       "      <td>1.00</td>\n",
       "      <td>id_00026719</td>\n",
       "    </tr>\n",
       "  </tbody>\n",
       "</table>\n",
       "<p>134304 rows × 5 columns</p>\n",
       "</div>"
      ],
      "text/plain": [
       "                                                name1  \\\n",
       "0       img/DRESSES/Dress/id_00001223/comsumer_02.jpg   \n",
       "1       img/DRESSES/Dress/id_00001223/comsumer_02.jpg   \n",
       "2       img/DRESSES/Dress/id_00000556/comsumer_03.jpg   \n",
       "3           img/DRESSES/Dress/id_00000556/shop_01.jpg   \n",
       "4       img/DRESSES/Dress/id_00025664/comsumer_01.jpg   \n",
       "...                                               ...   \n",
       "195519  img/DRESSES/Dress/id_00026698/comsumer_01.jpg   \n",
       "195520  img/DRESSES/Dress/id_00026698/comsumer_02.jpg   \n",
       "195521  img/DRESSES/Dress/id_00026698/comsumer_03.jpg   \n",
       "195538  img/DRESSES/Dress/id_00026719/comsumer_01.jpg   \n",
       "195539  img/DRESSES/Dress/id_00026719/comsumer_02.jpg   \n",
       "\n",
       "                                                   name2 status  score  \\\n",
       "0          img/DRESSES/Dress/id_00001458/comsumer_02.jpg  train   0.75   \n",
       "1          img/DRESSES/Skirt/id_00018464/comsumer_02.jpg  train   0.00   \n",
       "2          img/DRESSES/Dress/id_00023699/comsumer_02.jpg  train   0.75   \n",
       "3       img/CLOTHING/T_Shirt/id_00008194/comsumer_05.jpg  train   0.00   \n",
       "4          img/DRESSES/Dress/id_00000752/comsumer_14.jpg  train   0.75   \n",
       "...                                                  ...    ...    ...   \n",
       "195519         img/DRESSES/Dress/id_00026698/shop_01.jpg  train   1.00   \n",
       "195520         img/DRESSES/Dress/id_00026698/shop_01.jpg  train   1.00   \n",
       "195521         img/DRESSES/Dress/id_00026698/shop_01.jpg  train   1.00   \n",
       "195538         img/DRESSES/Dress/id_00026719/shop_01.jpg  train   1.00   \n",
       "195539         img/DRESSES/Dress/id_00026719/shop_01.jpg  train   1.00   \n",
       "\n",
       "                 id  \n",
       "0               NaN  \n",
       "1               NaN  \n",
       "2               NaN  \n",
       "3               NaN  \n",
       "4               NaN  \n",
       "...             ...  \n",
       "195519  id_00026698  \n",
       "195520  id_00026698  \n",
       "195521  id_00026698  \n",
       "195538  id_00026719  \n",
       "195539  id_00026719  \n",
       "\n",
       "[134304 rows x 5 columns]"
      ]
     },
     "execution_count": 10,
     "metadata": {},
     "output_type": "execute_result"
    }
   ],
   "source": [
    "train"
   ]
  },
  {
   "cell_type": "code",
   "execution_count": 11,
   "id": "b78f968e",
   "metadata": {
    "execution": {
     "iopub.execute_input": "2023-07-08T01:58:56.928964Z",
     "iopub.status.busy": "2023-07-08T01:58:56.928494Z",
     "iopub.status.idle": "2023-07-08T01:58:59.237012Z",
     "shell.execute_reply": "2023-07-08T01:58:59.235738Z"
    },
    "papermill": {
     "duration": 2.320888,
     "end_time": "2023-07-08T01:58:59.240043",
     "exception": false,
     "start_time": "2023-07-08T01:58:56.919155",
     "status": "completed"
    },
    "tags": []
   },
   "outputs": [],
   "source": [
    "#make dir for output\n",
    "\n",
    "root = \"/kaggle/input/customer2shopdataset/Customer2Shop/Customer2Shop/img/\"\n",
    "categories =  os.listdir(root)\n",
    "for cate in categories:\n",
    "    folders = os.listdir(f\"{root}{cate}/\")\n",
    "    for folder in folders:\n",
    "        ids = os.listdir(f\"{root}{cate}/\"+folder)\n",
    "        for id in ids:\n",
    "            os.makedirs(os.path.join(\"img\", cate, folder, id))\n",
    "    \n"
   ]
  },
  {
   "cell_type": "code",
   "execution_count": 12,
   "id": "788b67f8",
   "metadata": {
    "execution": {
     "iopub.execute_input": "2023-07-08T01:58:59.257605Z",
     "iopub.status.busy": "2023-07-08T01:58:59.257110Z",
     "iopub.status.idle": "2023-07-08T03:00:39.678540Z",
     "shell.execute_reply": "2023-07-08T03:00:39.676189Z"
    },
    "papermill": {
     "duration": 3700.43398,
     "end_time": "2023-07-08T03:00:39.681914",
     "exception": false,
     "start_time": "2023-07-08T01:58:59.247934",
     "status": "completed"
    },
    "tags": []
   },
   "outputs": [
    {
     "name": "stderr",
     "output_type": "stream",
     "text": [
      "134304it [1:01:40, 36.29it/s]\n"
     ]
    }
   ],
   "source": [
    "in_dir = \"/kaggle/input/customer2shopdataset/Customer2Shop/Customer2Shop\"\n",
    "aug = []\n",
    "\n",
    "def createImage(name1, name2, in_dir):\n",
    "    img1 = Image.open(os.path.join(in_dir, name1))\n",
    "    img2 = Image.open(os.path.join(in_dir, name2))\n",
    "    \n",
    "    img1.save(name1, format = \"JPEG\")\n",
    "    img2.save(name2, format = \"JPEG\")\n",
    "    \n",
    "    x = random.randint(0, 4)\n",
    "    \n",
    "    match x:\n",
    "        case 0:\n",
    "            name_ = name1.replace(\".jpg\", \"_rotate30.jpg\")\n",
    "            im_ = TF.rotate(img1, 30)\n",
    "        case 1:\n",
    "            name_ = name1.replace(\".jpg\", \"_rotate180.jpg\")\n",
    "            im_ = TF.rotate(img1, 180)\n",
    "        case 2:\n",
    "            name_ = name1.replace(\".jpg\", \"_flip.jpg\")\n",
    "            im_ = TF.hflip(img1)          \n",
    "        case 3:\n",
    "            name_ = name1.replace(\".jpg\", \"_blur.jpg\")\n",
    "            im_ = TF.gaussian_blur(img1, 17)\n",
    "        case 4:\n",
    "            \n",
    "            name_ = name1.replace(\".jpg\", \"_crop.jpg\")\n",
    "            w, h = img1.size\n",
    "            cropted_w, cropted_h = int(w*0.8), int(h*0.8)\n",
    "            transform = TT.RandomCrop((cropted_h, cropted_w))\n",
    "            im_ = transform(img1)\n",
    "    \n",
    "    im_.save(name_, format = \"JPEG\")\n",
    "    aug.append([name_, name2, id,status, score])\n",
    "    \n",
    "for idx, row in tqdm(enumerate(train.itertuples())):\n",
    "    name1 = row[1]\n",
    "    name2 = row[2]\n",
    "    id = row[3]\n",
    "    status = row[4]\n",
    "    score = row[5]\n",
    "    createImage(name1, name2, in_dir)\n"
   ]
  },
  {
   "cell_type": "code",
   "execution_count": 13,
   "id": "3e4cbc74",
   "metadata": {
    "execution": {
     "iopub.execute_input": "2023-07-08T03:00:44.977957Z",
     "iopub.status.busy": "2023-07-08T03:00:44.976737Z",
     "iopub.status.idle": "2023-07-08T03:00:45.132687Z",
     "shell.execute_reply": "2023-07-08T03:00:45.131399Z"
    },
    "papermill": {
     "duration": 2.78278,
     "end_time": "2023-07-08T03:00:45.135884",
     "exception": false,
     "start_time": "2023-07-08T03:00:42.353104",
     "status": "completed"
    },
    "tags": []
   },
   "outputs": [],
   "source": [
    "aug_df = pd.DataFrame(aug, columns = [\"name1\", \"name2\",\"id\", \"status\", \"score\"])"
   ]
  },
  {
   "cell_type": "code",
   "execution_count": 14,
   "id": "f4710c9c",
   "metadata": {
    "execution": {
     "iopub.execute_input": "2023-07-08T03:00:50.362407Z",
     "iopub.status.busy": "2023-07-08T03:00:50.361610Z",
     "iopub.status.idle": "2023-07-08T03:00:53.160062Z",
     "shell.execute_reply": "2023-07-08T03:00:53.158658Z"
    },
    "papermill": {
     "duration": 5.264617,
     "end_time": "2023-07-08T03:00:53.163287",
     "exception": false,
     "start_time": "2023-07-08T03:00:47.898670",
     "status": "completed"
    },
    "tags": []
   },
   "outputs": [],
   "source": [
    "final_train = pd.concat([train, aug_df])\n",
    "final_train.to_csv(\"pairs_for_training.csv\")"
   ]
  },
  {
   "cell_type": "code",
   "execution_count": 15,
   "id": "f8bf8e17",
   "metadata": {
    "execution": {
     "iopub.execute_input": "2023-07-08T03:00:58.452123Z",
     "iopub.status.busy": "2023-07-08T03:00:58.451656Z",
     "iopub.status.idle": "2023-07-08T03:00:58.461005Z",
     "shell.execute_reply": "2023-07-08T03:00:58.459938Z"
    },
    "papermill": {
     "duration": 2.628543,
     "end_time": "2023-07-08T03:00:58.463427",
     "exception": false,
     "start_time": "2023-07-08T03:00:55.834884",
     "status": "completed"
    },
    "tags": []
   },
   "outputs": [
    {
     "data": {
      "text/plain": [
       "'\\nroot = \"/kaggle/input/customer2shopdataset/Customer2Shop/Customer2Shop\"\\ncount = 0\\nfor idx, row in tqdm(enumerate(test.itertuples())):\\n    name1 = row[1]\\n    name2 = row[2]\\n    score = row\\n\\n    \\n    if (os.path.exists(os.path.join(root, name1)) == False) or (os.path.exists(os.path.join(root, name2)) == False):\\n        print(idx, name1, name2)\\n                \\nprint(count)\\n'"
      ]
     },
     "execution_count": 15,
     "metadata": {},
     "output_type": "execute_result"
    }
   ],
   "source": [
    "\"\"\"\n",
    "root = \"/kaggle/input/customer2shopdataset/Customer2Shop/Customer2Shop\"\n",
    "count = 0\n",
    "for idx, row in tqdm(enumerate(test.itertuples())):\n",
    "    name1 = row[1]\n",
    "    name2 = row[2]\n",
    "    score = row\n",
    "\n",
    "    \n",
    "    if (os.path.exists(os.path.join(root, name1)) == False) or (os.path.exists(os.path.join(root, name2)) == False):\n",
    "        print(idx, name1, name2)\n",
    "                \n",
    "print(count)\n",
    "\"\"\"\n",
    "\n",
    "\n",
    "    \n"
   ]
  },
  {
   "cell_type": "code",
   "execution_count": 16,
   "id": "7ad28314",
   "metadata": {
    "execution": {
     "iopub.execute_input": "2023-07-08T03:01:03.737234Z",
     "iopub.status.busy": "2023-07-08T03:01:03.736322Z",
     "iopub.status.idle": "2023-07-08T03:01:03.753353Z",
     "shell.execute_reply": "2023-07-08T03:01:03.752231Z"
    },
    "papermill": {
     "duration": 2.648018,
     "end_time": "2023-07-08T03:01:03.756313",
     "exception": false,
     "start_time": "2023-07-08T03:01:01.108295",
     "status": "completed"
    },
    "tags": []
   },
   "outputs": [],
   "source": [
    "test =  pd.concat([test_df, val_df])"
   ]
  },
  {
   "cell_type": "code",
   "execution_count": 17,
   "id": "8873b01c",
   "metadata": {
    "execution": {
     "iopub.execute_input": "2023-07-08T03:01:08.980906Z",
     "iopub.status.busy": "2023-07-08T03:01:08.979625Z",
     "iopub.status.idle": "2023-07-08T03:01:08.996939Z",
     "shell.execute_reply": "2023-07-08T03:01:08.996091Z"
    },
    "papermill": {
     "duration": 2.64107,
     "end_time": "2023-07-08T03:01:08.999992",
     "exception": false,
     "start_time": "2023-07-08T03:01:06.358922",
     "status": "completed"
    },
    "tags": []
   },
   "outputs": [
    {
     "data": {
      "text/html": [
       "<div>\n",
       "<style scoped>\n",
       "    .dataframe tbody tr th:only-of-type {\n",
       "        vertical-align: middle;\n",
       "    }\n",
       "\n",
       "    .dataframe tbody tr th {\n",
       "        vertical-align: top;\n",
       "    }\n",
       "\n",
       "    .dataframe thead th {\n",
       "        text-align: right;\n",
       "    }\n",
       "</style>\n",
       "<table border=\"1\" class=\"dataframe\">\n",
       "  <thead>\n",
       "    <tr style=\"text-align: right;\">\n",
       "      <th></th>\n",
       "      <th>name1</th>\n",
       "      <th>name2</th>\n",
       "      <th>id</th>\n",
       "      <th>status</th>\n",
       "      <th>score</th>\n",
       "    </tr>\n",
       "  </thead>\n",
       "  <tbody>\n",
       "    <tr>\n",
       "      <th>0</th>\n",
       "      <td>img/TOPS/T_Shirt/id_00000001/comsumer_01.jpg</td>\n",
       "      <td>img/TOPS/T_Shirt/id_00000001/shop_02.jpg</td>\n",
       "      <td>id_00000001</td>\n",
       "      <td>test</td>\n",
       "      <td>1</td>\n",
       "    </tr>\n",
       "    <tr>\n",
       "      <th>1</th>\n",
       "      <td>img/TOPS/T_Shirt/id_00000001/comsumer_02.jpg</td>\n",
       "      <td>img/TOPS/T_Shirt/id_00000001/shop_01.jpg</td>\n",
       "      <td>id_00000001</td>\n",
       "      <td>test</td>\n",
       "      <td>1</td>\n",
       "    </tr>\n",
       "    <tr>\n",
       "      <th>2</th>\n",
       "      <td>img/TOPS/T_Shirt/id_00000001/comsumer_03.jpg</td>\n",
       "      <td>img/TOPS/T_Shirt/id_00000001/shop_01.jpg</td>\n",
       "      <td>id_00000001</td>\n",
       "      <td>test</td>\n",
       "      <td>1</td>\n",
       "    </tr>\n",
       "    <tr>\n",
       "      <th>3</th>\n",
       "      <td>img/TOPS/T_Shirt/id_00000001/comsumer_04.jpg</td>\n",
       "      <td>img/TOPS/T_Shirt/id_00000001/shop_03.jpg</td>\n",
       "      <td>id_00000001</td>\n",
       "      <td>test</td>\n",
       "      <td>1</td>\n",
       "    </tr>\n",
       "    <tr>\n",
       "      <th>4</th>\n",
       "      <td>img/TOPS/T_Shirt/id_00000001/comsumer_05.jpg</td>\n",
       "      <td>img/TOPS/T_Shirt/id_00000001/shop_01.jpg</td>\n",
       "      <td>id_00000001</td>\n",
       "      <td>test</td>\n",
       "      <td>1</td>\n",
       "    </tr>\n",
       "    <tr>\n",
       "      <th>...</th>\n",
       "      <td>...</td>\n",
       "      <td>...</td>\n",
       "      <td>...</td>\n",
       "      <td>...</td>\n",
       "      <td>...</td>\n",
       "    </tr>\n",
       "    <tr>\n",
       "      <th>195533</th>\n",
       "      <td>img/DRESSES/Dress/id_00026713/comsumer_10.jpg</td>\n",
       "      <td>img/DRESSES/Dress/id_00026713/shop_01.jpg</td>\n",
       "      <td>id_00026713</td>\n",
       "      <td>val</td>\n",
       "      <td>1</td>\n",
       "    </tr>\n",
       "    <tr>\n",
       "      <th>195534</th>\n",
       "      <td>img/DRESSES/Dress/id_00026713/comsumer_11.jpg</td>\n",
       "      <td>img/DRESSES/Dress/id_00026713/shop_01.jpg</td>\n",
       "      <td>id_00026713</td>\n",
       "      <td>val</td>\n",
       "      <td>1</td>\n",
       "    </tr>\n",
       "    <tr>\n",
       "      <th>195535</th>\n",
       "      <td>img/DRESSES/Dress/id_00026713/comsumer_12.jpg</td>\n",
       "      <td>img/DRESSES/Dress/id_00026713/shop_01.jpg</td>\n",
       "      <td>id_00026713</td>\n",
       "      <td>val</td>\n",
       "      <td>1</td>\n",
       "    </tr>\n",
       "    <tr>\n",
       "      <th>195536</th>\n",
       "      <td>img/DRESSES/Dress/id_00026713/comsumer_13.jpg</td>\n",
       "      <td>img/DRESSES/Dress/id_00026713/shop_01.jpg</td>\n",
       "      <td>id_00026713</td>\n",
       "      <td>val</td>\n",
       "      <td>1</td>\n",
       "    </tr>\n",
       "    <tr>\n",
       "      <th>195537</th>\n",
       "      <td>img/DRESSES/Dress/id_00026717/comsumer_01.jpg</td>\n",
       "      <td>img/DRESSES/Dress/id_00026717/shop_01.jpg</td>\n",
       "      <td>id_00026717</td>\n",
       "      <td>val</td>\n",
       "      <td>1</td>\n",
       "    </tr>\n",
       "  </tbody>\n",
       "</table>\n",
       "<p>96708 rows × 5 columns</p>\n",
       "</div>"
      ],
      "text/plain": [
       "                                                name1  \\\n",
       "0        img/TOPS/T_Shirt/id_00000001/comsumer_01.jpg   \n",
       "1        img/TOPS/T_Shirt/id_00000001/comsumer_02.jpg   \n",
       "2        img/TOPS/T_Shirt/id_00000001/comsumer_03.jpg   \n",
       "3        img/TOPS/T_Shirt/id_00000001/comsumer_04.jpg   \n",
       "4        img/TOPS/T_Shirt/id_00000001/comsumer_05.jpg   \n",
       "...                                               ...   \n",
       "195533  img/DRESSES/Dress/id_00026713/comsumer_10.jpg   \n",
       "195534  img/DRESSES/Dress/id_00026713/comsumer_11.jpg   \n",
       "195535  img/DRESSES/Dress/id_00026713/comsumer_12.jpg   \n",
       "195536  img/DRESSES/Dress/id_00026713/comsumer_13.jpg   \n",
       "195537  img/DRESSES/Dress/id_00026717/comsumer_01.jpg   \n",
       "\n",
       "                                            name2           id status  score  \n",
       "0        img/TOPS/T_Shirt/id_00000001/shop_02.jpg  id_00000001   test      1  \n",
       "1        img/TOPS/T_Shirt/id_00000001/shop_01.jpg  id_00000001   test      1  \n",
       "2        img/TOPS/T_Shirt/id_00000001/shop_01.jpg  id_00000001   test      1  \n",
       "3        img/TOPS/T_Shirt/id_00000001/shop_03.jpg  id_00000001   test      1  \n",
       "4        img/TOPS/T_Shirt/id_00000001/shop_01.jpg  id_00000001   test      1  \n",
       "...                                           ...          ...    ...    ...  \n",
       "195533  img/DRESSES/Dress/id_00026713/shop_01.jpg  id_00026713    val      1  \n",
       "195534  img/DRESSES/Dress/id_00026713/shop_01.jpg  id_00026713    val      1  \n",
       "195535  img/DRESSES/Dress/id_00026713/shop_01.jpg  id_00026713    val      1  \n",
       "195536  img/DRESSES/Dress/id_00026713/shop_01.jpg  id_00026713    val      1  \n",
       "195537  img/DRESSES/Dress/id_00026717/shop_01.jpg  id_00026717    val      1  \n",
       "\n",
       "[96708 rows x 5 columns]"
      ]
     },
     "execution_count": 17,
     "metadata": {},
     "output_type": "execute_result"
    }
   ],
   "source": [
    "test"
   ]
  },
  {
   "cell_type": "code",
   "execution_count": 18,
   "id": "9c2218a1",
   "metadata": {
    "execution": {
     "iopub.execute_input": "2023-07-08T03:01:14.237664Z",
     "iopub.status.busy": "2023-07-08T03:01:14.236790Z",
     "iopub.status.idle": "2023-07-08T03:01:15.175388Z",
     "shell.execute_reply": "2023-07-08T03:01:15.173805Z"
    },
    "papermill": {
     "duration": 3.555667,
     "end_time": "2023-07-08T03:01:15.178652",
     "exception": false,
     "start_time": "2023-07-08T03:01:11.622985",
     "status": "completed"
    },
    "tags": []
   },
   "outputs": [],
   "source": [
    "test.to_csv(\"pairs_for_testing.csv\")"
   ]
  },
  {
   "cell_type": "code",
   "execution_count": 19,
   "id": "7efbafd1",
   "metadata": {
    "execution": {
     "iopub.execute_input": "2023-07-08T03:01:20.394040Z",
     "iopub.status.busy": "2023-07-08T03:01:20.393213Z",
     "iopub.status.idle": "2023-07-08T03:33:48.831608Z",
     "shell.execute_reply": "2023-07-08T03:33:48.830097Z"
    },
    "papermill": {
     "duration": 1951.049042,
     "end_time": "2023-07-08T03:33:48.834703",
     "exception": false,
     "start_time": "2023-07-08T03:01:17.785661",
     "status": "completed"
    },
    "tags": []
   },
   "outputs": [
    {
     "name": "stderr",
     "output_type": "stream",
     "text": [
      "96708it [32:28, 49.63it/s]\n"
     ]
    }
   ],
   "source": [
    "for idx, row in tqdm(enumerate(test.itertuples())):\n",
    "    name1 = row[1]\n",
    "    name2 = row[2]\n",
    "    img1 = Image.open(os.path.join(in_dir, name1))\n",
    "    img2 = Image.open(os.path.join(in_dir, name2))\n",
    "    \n",
    "    img1.save(name1, format = \"JPEG\")\n",
    "    img2.save(name2, format = \"JPEG\")\n",
    "    \n"
   ]
  }
 ],
 "metadata": {
  "kernelspec": {
   "display_name": "Python 3",
   "language": "python",
   "name": "python3"
  },
  "language_info": {
   "codemirror_mode": {
    "name": "ipython",
    "version": 3
   },
   "file_extension": ".py",
   "mimetype": "text/x-python",
   "name": "python",
   "nbconvert_exporter": "python",
   "pygments_lexer": "ipython3",
   "version": "3.10.10"
  },
  "papermill": {
   "default_parameters": {},
   "duration": 6064.913867,
   "end_time": "2023-07-08T03:33:56.516997",
   "environment_variables": {},
   "exception": null,
   "input_path": "__notebook__.ipynb",
   "output_path": "__notebook__.ipynb",
   "parameters": {},
   "start_time": "2023-07-08T01:52:51.603130",
   "version": "2.4.0"
  }
 },
 "nbformat": 4,
 "nbformat_minor": 5
}
